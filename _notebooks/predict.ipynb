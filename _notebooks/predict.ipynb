{
 "cells": [
  {
   "cell_type": "code",
   "execution_count": 5,
   "metadata": {
    "collapsed": false
   },
   "outputs": [],
   "source": [
    "import sys\n",
    "sys.path.append(\"../_build/\")\n",
    "\n",
    "import constants\n",
    "import pandas as pd\n",
    "import json"
   ]
  },
  {
   "cell_type": "code",
   "execution_count": 6,
   "metadata": {
    "collapsed": true
   },
   "outputs": [],
   "source": [
    "def miles_hiked_per_day(df):\n",
    "    completed = constants.get_completed(df)[[constants.DATE_COL, constants.TO_SPRINGER_COL]]\n",
    "    completed[constants.DATE_COL+\"_dt\"] = completed[constants.DATE_COL].dt.strftime('%Y-%m-%d')\n",
    "\n",
    "    # Need to shift the values, since the last checkpoint of each day should be the first checkpoint of the next day\n",
    "    completed[constants.TO_SPRINGER_COL + '_shifted'] = completed[constants.TO_SPRINGER_COL].shift(1)\n",
    "    completed[constants.DATE_COL + '_shifted'] = completed[constants.DATE_COL].shift(1)\n",
    "    completed[constants.DATE_COL + '_dt_shifted'] = completed[constants.DATE_COL + '_dt'].shift(1)\n",
    "\n",
    "    # Exclude calculating the overnight duration by filtering where the dates are different\n",
    "    completed = completed[completed[constants.DATE_COL + '_dt'] == completed[constants.DATE_COL + '_dt_shifted']]\n",
    "\n",
    "    # Group by day\n",
    "    f = {constants.TO_SPRINGER_COL: 'last', 'to_spgr_shifted': 'first', constants.DATE_COL: 'last', constants.DATE_COL + '_shifted': 'first'}\n",
    "    miles_per_day = completed.groupby(constants.DATE_COL+'_dt').agg(f)\n",
    "    miles_per_day['miles'] = miles_per_day[constants.TO_SPRINGER_COL] - miles_per_day[constants.TO_SPRINGER_COL + '_shifted']\n",
    "    miles_per_day['duration'] = miles_per_day[constants.DATE_COL] - miles_per_day[constants.DATE_COL + '_shifted']\n",
    "\n",
    "    # Calculate Average Miles per Day (does not include zero days)\n",
    "    avg_mileage = \"0.0\"\n",
    "    if len(completed) > 0:\n",
    "        avg_mileage = \"{:.1f}\".format(miles_per_day['miles'].mean())\n",
    "\n",
    "    # Utility to format hiking duration\n",
    "    def format_duration(d):\n",
    "        seconds = d.total_seconds()\n",
    "        hours = seconds // 3600\n",
    "        minutes = (seconds % 3600) // 60\n",
    "\n",
    "        return '%02d:%02d' % (hours, minutes)\n",
    "        \n",
    "    # Fix rounding issue by converting each mileage value into a string\n",
    "    miles_per_day['date'] = miles_per_day.index\n",
    "    miles_per_day['miles'] = miles_per_day['miles'].apply(lambda x: '{:.1f}'.format(x))\n",
    "    miles_per_day['duration'] = miles_per_day['duration'].apply(lambda x: format_duration(x))\n",
    "\n",
    "    # Fill in the missing days so we can calculate the number of zero days\n",
    "    num_zeros = 0\n",
    "    if len(completed) > 0:\n",
    "        zeros = miles_per_day.copy()\n",
    "        idx = pd.date_range(zeros.index.min(), zeros.index.max())\n",
    "        zeros.index = pd.DatetimeIndex(zeros.index)\n",
    "        zeros = zeros.reindex(idx, fill_value=0)\n",
    "        num_zeros = len(zeros[zeros['miles'] == 0])\n",
    "\n",
    "    return {'mileage': miles_per_day[['date', 'miles', 'duration']].to_dict('records'), 'avg_mileage': avg_mileage, 'num_zeros': num_zeros}"
   ]
  },
  {
   "cell_type": "code",
   "execution_count": 7,
   "metadata": {
    "collapsed": false
   },
   "outputs": [
    {
     "name": "stdout",
     "output_type": "stream",
     "text": [
      "{'mileage': [{'date': '2017-03-13', 'miles': '7.3', 'duration': '03:34'}, {'date': '2017-03-14', 'miles': '5.8', 'duration': '03:25'}, {'date': '2017-03-15', 'miles': '3.8', 'duration': '01:44'}, {'date': '2017-03-16', 'miles': '7.7', 'duration': '05:02'}, {'date': '2017-03-17', 'miles': '8.4', 'duration': '05:25'}, {'date': '2017-03-18', 'miles': '7.2', 'duration': '04:19'}, {'date': '2017-03-19', 'miles': '11.5', 'duration': '05:25'}, {'date': '2017-03-20', 'miles': '9.7', 'duration': '04:00'}, {'date': '2017-03-22', 'miles': '10.4', 'duration': '04:56'}, {'date': '2017-03-23', 'miles': '10.8', 'duration': '06:27'}, {'date': '2017-03-24', 'miles': '12.2', 'duration': '06:25'}, {'date': '2017-03-25', 'miles': '16.3', 'duration': '07:23'}, {'date': '2017-03-26', 'miles': '7.2', 'duration': '02:39'}, {'date': '2017-03-28', 'miles': '15.8', 'duration': '07:40'}, {'date': '2017-03-29', 'miles': '11.7', 'duration': '06:21'}, {'date': '2017-03-30', 'miles': '6.7', 'duration': '03:03'}, {'date': '2017-03-31', 'miles': '9.1', 'duration': '04:15'}, {'date': '2017-04-01', 'miles': '12.8', 'duration': '05:14'}, {'date': '2017-04-04', 'miles': '17.3', 'duration': '08:16'}, {'date': '2017-04-05', 'miles': '6.1', 'duration': '03:21'}, {'date': '2017-04-06', 'miles': '17.8', 'duration': '09:41'}, {'date': '2017-04-08', 'miles': '15.1', 'duration': '07:05'}, {'date': '2017-04-09', 'miles': '18.4', 'duration': '08:23'}, {'date': '2017-04-10', 'miles': '13.3', 'duration': '06:57'}, {'date': '2017-04-11', 'miles': '20.2', 'duration': '08:29'}], 'avg_mileage': '11.3', 'num_zeros': 5}\n"
     ]
    }
   ],
   "source": [
    "checkpoints = constants.read_poi_file()\n",
    "mpd = miles_hiked_per_day(checkpoints)\n",
    "\n",
    "print(mpd)"
   ]
  },
  {
   "cell_type": "code",
   "execution_count": 2,
   "metadata": {
    "collapsed": false
   },
   "outputs": [
    {
     "name": "stdout",
     "output_type": "stream",
     "text": [
      "170\n",
      "546\n"
     ]
    },
    {
     "data": {
      "text/html": [
       "<div>\n",
       "<table border=\"1\" class=\"dataframe\">\n",
       "  <thead>\n",
       "    <tr style=\"text-align: right;\">\n",
       "      <th></th>\n",
       "      <th>dt_reached</th>\n",
       "      <th>to_spgr</th>\n",
       "      <th>dt_reached_dt</th>\n",
       "    </tr>\n",
       "  </thead>\n",
       "  <tbody>\n",
       "    <tr>\n",
       "      <th>0</th>\n",
       "      <td>2017-03-13 10:03:00</td>\n",
       "      <td>-8.8</td>\n",
       "      <td>2017-03-13</td>\n",
       "    </tr>\n",
       "    <tr>\n",
       "      <th>1</th>\n",
       "      <td>2017-03-13 13:37:00</td>\n",
       "      <td>-1.5</td>\n",
       "      <td>2017-03-13</td>\n",
       "    </tr>\n",
       "    <tr>\n",
       "      <th>2</th>\n",
       "      <td>2017-03-14 11:37:00</td>\n",
       "      <td>-1.5</td>\n",
       "      <td>2017-03-14</td>\n",
       "    </tr>\n",
       "    <tr>\n",
       "      <th>3</th>\n",
       "      <td>2017-03-14 12:14:00</td>\n",
       "      <td>0.0</td>\n",
       "      <td>2017-03-14</td>\n",
       "    </tr>\n",
       "    <tr>\n",
       "      <th>4</th>\n",
       "      <td>2017-03-14 12:25:00</td>\n",
       "      <td>0.2</td>\n",
       "      <td>2017-03-14</td>\n",
       "    </tr>\n",
       "    <tr>\n",
       "      <th>5</th>\n",
       "      <td>2017-03-14 12:47:00</td>\n",
       "      <td>1.0</td>\n",
       "      <td>2017-03-14</td>\n",
       "    </tr>\n",
       "    <tr>\n",
       "      <th>6</th>\n",
       "      <td>2017-03-14 13:18:00</td>\n",
       "      <td>2.0</td>\n",
       "      <td>2017-03-14</td>\n",
       "    </tr>\n",
       "    <tr>\n",
       "      <th>7</th>\n",
       "      <td>2017-03-14 13:42:00</td>\n",
       "      <td>2.8</td>\n",
       "      <td>2017-03-14</td>\n",
       "    </tr>\n",
       "    <tr>\n",
       "      <th>8</th>\n",
       "      <td>2017-03-14 15:02:00</td>\n",
       "      <td>4.3</td>\n",
       "      <td>2017-03-14</td>\n",
       "    </tr>\n",
       "    <tr>\n",
       "      <th>9</th>\n",
       "      <td>2017-03-15 12:02:00</td>\n",
       "      <td>4.3</td>\n",
       "      <td>2017-03-15</td>\n",
       "    </tr>\n",
       "  </tbody>\n",
       "</table>\n",
       "</div>"
      ],
      "text/plain": [
       "           dt_reached  to_spgr dt_reached_dt\n",
       "0 2017-03-13 10:03:00     -8.8    2017-03-13\n",
       "1 2017-03-13 13:37:00     -1.5    2017-03-13\n",
       "2 2017-03-14 11:37:00     -1.5    2017-03-14\n",
       "3 2017-03-14 12:14:00      0.0    2017-03-14\n",
       "4 2017-03-14 12:25:00      0.2    2017-03-14\n",
       "5 2017-03-14 12:47:00      1.0    2017-03-14\n",
       "6 2017-03-14 13:18:00      2.0    2017-03-14\n",
       "7 2017-03-14 13:42:00      2.8    2017-03-14\n",
       "8 2017-03-14 15:02:00      4.3    2017-03-14\n",
       "9 2017-03-15 12:02:00      4.3    2017-03-15"
      ]
     },
     "execution_count": 2,
     "metadata": {},
     "output_type": "execute_result"
    }
   ],
   "source": [
    "df = constants.read_poi_file()    \n",
    "    \n",
    "completed = constants.get_completed(df)[[constants.DATE_COL, constants.TO_SPRINGER_COL]]\n",
    "completed[constants.DATE_COL+\"_dt\"] = completed[constants.DATE_COL].dt.strftime('%Y-%m-%d')\n",
    "\n",
    "print(len(completed))\n",
    "print(len(df))\n",
    "completed.head(10)"
   ]
  },
  {
   "cell_type": "code",
   "execution_count": 3,
   "metadata": {
    "collapsed": false
   },
   "outputs": [
    {
     "data": {
      "text/html": [
       "<div>\n",
       "<table border=\"1\" class=\"dataframe\">\n",
       "  <thead>\n",
       "    <tr style=\"text-align: right;\">\n",
       "      <th></th>\n",
       "      <th>dt_reached</th>\n",
       "      <th>to_spgr</th>\n",
       "      <th>dt_reached_dt</th>\n",
       "      <th>to_spgr_shifted</th>\n",
       "      <th>dt_reached_shifted</th>\n",
       "      <th>dt_reached_dt_shifted</th>\n",
       "    </tr>\n",
       "  </thead>\n",
       "  <tbody>\n",
       "    <tr>\n",
       "      <th>0</th>\n",
       "      <td>2017-03-13 10:03:00</td>\n",
       "      <td>-8.8</td>\n",
       "      <td>2017-03-13</td>\n",
       "      <td>NaN</td>\n",
       "      <td>NaT</td>\n",
       "      <td>NaN</td>\n",
       "    </tr>\n",
       "    <tr>\n",
       "      <th>1</th>\n",
       "      <td>2017-03-13 13:37:00</td>\n",
       "      <td>-1.5</td>\n",
       "      <td>2017-03-13</td>\n",
       "      <td>-8.8</td>\n",
       "      <td>2017-03-13 10:03:00</td>\n",
       "      <td>2017-03-13</td>\n",
       "    </tr>\n",
       "    <tr>\n",
       "      <th>2</th>\n",
       "      <td>2017-03-14 11:37:00</td>\n",
       "      <td>-1.5</td>\n",
       "      <td>2017-03-14</td>\n",
       "      <td>-1.5</td>\n",
       "      <td>2017-03-13 13:37:00</td>\n",
       "      <td>2017-03-13</td>\n",
       "    </tr>\n",
       "    <tr>\n",
       "      <th>3</th>\n",
       "      <td>2017-03-14 12:14:00</td>\n",
       "      <td>0.0</td>\n",
       "      <td>2017-03-14</td>\n",
       "      <td>-1.5</td>\n",
       "      <td>2017-03-14 11:37:00</td>\n",
       "      <td>2017-03-14</td>\n",
       "    </tr>\n",
       "    <tr>\n",
       "      <th>4</th>\n",
       "      <td>2017-03-14 12:25:00</td>\n",
       "      <td>0.2</td>\n",
       "      <td>2017-03-14</td>\n",
       "      <td>0.0</td>\n",
       "      <td>2017-03-14 12:14:00</td>\n",
       "      <td>2017-03-14</td>\n",
       "    </tr>\n",
       "    <tr>\n",
       "      <th>5</th>\n",
       "      <td>2017-03-14 12:47:00</td>\n",
       "      <td>1.0</td>\n",
       "      <td>2017-03-14</td>\n",
       "      <td>0.2</td>\n",
       "      <td>2017-03-14 12:25:00</td>\n",
       "      <td>2017-03-14</td>\n",
       "    </tr>\n",
       "    <tr>\n",
       "      <th>6</th>\n",
       "      <td>2017-03-14 13:18:00</td>\n",
       "      <td>2.0</td>\n",
       "      <td>2017-03-14</td>\n",
       "      <td>1.0</td>\n",
       "      <td>2017-03-14 12:47:00</td>\n",
       "      <td>2017-03-14</td>\n",
       "    </tr>\n",
       "    <tr>\n",
       "      <th>7</th>\n",
       "      <td>2017-03-14 13:42:00</td>\n",
       "      <td>2.8</td>\n",
       "      <td>2017-03-14</td>\n",
       "      <td>2.0</td>\n",
       "      <td>2017-03-14 13:18:00</td>\n",
       "      <td>2017-03-14</td>\n",
       "    </tr>\n",
       "    <tr>\n",
       "      <th>8</th>\n",
       "      <td>2017-03-14 15:02:00</td>\n",
       "      <td>4.3</td>\n",
       "      <td>2017-03-14</td>\n",
       "      <td>2.8</td>\n",
       "      <td>2017-03-14 13:42:00</td>\n",
       "      <td>2017-03-14</td>\n",
       "    </tr>\n",
       "    <tr>\n",
       "      <th>9</th>\n",
       "      <td>2017-03-15 12:02:00</td>\n",
       "      <td>4.3</td>\n",
       "      <td>2017-03-15</td>\n",
       "      <td>4.3</td>\n",
       "      <td>2017-03-14 15:02:00</td>\n",
       "      <td>2017-03-14</td>\n",
       "    </tr>\n",
       "  </tbody>\n",
       "</table>\n",
       "</div>"
      ],
      "text/plain": [
       "           dt_reached  to_spgr dt_reached_dt  to_spgr_shifted  \\\n",
       "0 2017-03-13 10:03:00     -8.8    2017-03-13              NaN   \n",
       "1 2017-03-13 13:37:00     -1.5    2017-03-13             -8.8   \n",
       "2 2017-03-14 11:37:00     -1.5    2017-03-14             -1.5   \n",
       "3 2017-03-14 12:14:00      0.0    2017-03-14             -1.5   \n",
       "4 2017-03-14 12:25:00      0.2    2017-03-14              0.0   \n",
       "5 2017-03-14 12:47:00      1.0    2017-03-14              0.2   \n",
       "6 2017-03-14 13:18:00      2.0    2017-03-14              1.0   \n",
       "7 2017-03-14 13:42:00      2.8    2017-03-14              2.0   \n",
       "8 2017-03-14 15:02:00      4.3    2017-03-14              2.8   \n",
       "9 2017-03-15 12:02:00      4.3    2017-03-15              4.3   \n",
       "\n",
       "   dt_reached_shifted dt_reached_dt_shifted  \n",
       "0                 NaT                   NaN  \n",
       "1 2017-03-13 10:03:00            2017-03-13  \n",
       "2 2017-03-13 13:37:00            2017-03-13  \n",
       "3 2017-03-14 11:37:00            2017-03-14  \n",
       "4 2017-03-14 12:14:00            2017-03-14  \n",
       "5 2017-03-14 12:25:00            2017-03-14  \n",
       "6 2017-03-14 12:47:00            2017-03-14  \n",
       "7 2017-03-14 13:18:00            2017-03-14  \n",
       "8 2017-03-14 13:42:00            2017-03-14  \n",
       "9 2017-03-14 15:02:00            2017-03-14  "
      ]
     },
     "execution_count": 3,
     "metadata": {},
     "output_type": "execute_result"
    }
   ],
   "source": [
    "# Need to shift the values, since the last checkpoint of each day should be the first checkpoint of the next day\n",
    "completed[constants.TO_SPRINGER_COL + '_shifted'] = completed[constants.TO_SPRINGER_COL].shift(1)\n",
    "completed[constants.DATE_COL + '_shifted'] = completed[constants.DATE_COL].shift(1)\n",
    "completed[constants.DATE_COL + '_dt_shifted'] = completed[constants.DATE_COL + '_dt'].shift(1)\n",
    "\n",
    "completed.head(10)"
   ]
  },
  {
   "cell_type": "code",
   "execution_count": 27,
   "metadata": {
    "collapsed": false
   },
   "outputs": [
    {
     "name": "stdout",
     "output_type": "stream",
     "text": [
      "{'mileage': [{'date': '2017-03-13', 'miles': '7.3', 'duration': '03:34'}, {'date': '2017-03-14', 'miles': '5.8', 'duration': '03:25'}, {'date': '2017-03-15', 'miles': '3.8', 'duration': '01:44'}, {'date': '2017-03-16', 'miles': '7.7', 'duration': '05:02'}, {'date': '2017-03-17', 'miles': '8.4', 'duration': '05:25'}, {'date': '2017-03-18', 'miles': '7.2', 'duration': '04:19'}, {'date': '2017-03-19', 'miles': '11.5', 'duration': '05:25'}, {'date': '2017-03-20', 'miles': '9.7', 'duration': '04:00'}, {'date': '2017-03-22', 'miles': '10.4', 'duration': '04:56'}, {'date': '2017-03-23', 'miles': '10.8', 'duration': '06:27'}, {'date': '2017-03-24', 'miles': '12.2', 'duration': '06:25'}, {'date': '2017-03-25', 'miles': '16.3', 'duration': '07:23'}, {'date': '2017-03-26', 'miles': '7.2', 'duration': '02:39'}, {'date': '2017-03-28', 'miles': '15.8', 'duration': '07:40'}, {'date': '2017-03-29', 'miles': '11.7', 'duration': '06:21'}, {'date': '2017-03-30', 'miles': '6.7', 'duration': '03:03'}, {'date': '2017-03-31', 'miles': '9.1', 'duration': '04:15'}, {'date': '2017-04-01', 'miles': '12.8', 'duration': '05:14'}, {'date': '2017-04-04', 'miles': '17.3', 'duration': '08:16'}, {'date': '2017-04-05', 'miles': '6.1', 'duration': '03:21'}, {'date': '2017-04-06', 'miles': '17.8', 'duration': '09:41'}, {'date': '2017-04-08', 'miles': '15.1', 'duration': '07:05'}, {'date': '2017-04-09', 'miles': '18.4', 'duration': '08:23'}, {'date': '2017-04-10', 'miles': '13.3', 'duration': '06:57'}, {'date': '2017-04-11', 'miles': '20.2', 'duration': '08:29'}]}\n"
     ]
    }
   ],
   "source": [
    "# Exclude calculating the overnight duration by filtering where the dates are different\n",
    "completed = completed[completed[constants.DATE_COL + '_dt'] == completed[constants.DATE_COL + '_dt_shifted']]\n",
    "\n",
    "# Group by day\n",
    "f = {constants.TO_SPRINGER_COL: 'last', 'to_spgr_shifted': 'first', constants.DATE_COL: 'last', constants.DATE_COL + '_shifted': 'first'}\n",
    "miles_per_day = completed.groupby(constants.DATE_COL+'_dt').agg(f)\n",
    "miles_per_day['miles'] = miles_per_day[constants.TO_SPRINGER_COL] - miles_per_day[constants.TO_SPRINGER_COL + '_shifted']\n",
    "miles_per_day['duration'] = miles_per_day[constants.DATE_COL] - miles_per_day[constants.DATE_COL + '_shifted']\n",
    "\n",
    "\n",
    "# Fix rounding issue by converting each mileage value into a string\n",
    "def format_duration(d):\n",
    "    seconds = d.total_seconds()\n",
    "    hours = seconds // 3600\n",
    "    minutes = (seconds % 3600) // 60\n",
    "    \n",
    "    return '%02d:%02d' % (hours, minutes)\n",
    "\n",
    "miles_per_day['date'] = miles_per_day.index\n",
    "miles_per_day['miles'] = miles_per_day['miles'].apply(lambda x: '{:.1f}'.format(x))\n",
    "miles_per_day['duration'] = miles_per_day['duration'].apply(lambda x: format_duration(x))\n",
    "\n",
    "mpd = {'mileage': miles_per_day[['date', 'miles', 'duration']].to_dict('records')}\n",
    "\n",
    "print(mpd)"
   ]
  },
  {
   "cell_type": "code",
   "execution_count": 28,
   "metadata": {
    "collapsed": false
   },
   "outputs": [],
   "source": [
    "with open(constants.statsFilePath, 'w') as outfile:\n",
    "    json.dump({**mpd}, outfile)"
   ]
  }
 ],
 "metadata": {
  "kernelspec": {
   "display_name": "Python 3",
   "language": "python",
   "name": "python3"
  },
  "language_info": {
   "codemirror_mode": {
    "name": "ipython",
    "version": 3
   },
   "file_extension": ".py",
   "mimetype": "text/x-python",
   "name": "python",
   "nbconvert_exporter": "python",
   "pygments_lexer": "ipython3",
   "version": "3.6.0"
  }
 },
 "nbformat": 4,
 "nbformat_minor": 2
}
